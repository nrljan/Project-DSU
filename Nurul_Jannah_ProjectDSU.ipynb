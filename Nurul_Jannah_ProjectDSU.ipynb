{
  "nbformat": 4,
  "nbformat_minor": 0,
  "metadata": {
    "colab": {
      "name": "Nurul_Jannah_ProjectDSU.ipynb",
      "provenance": []
    },
    "kernelspec": {
      "name": "python3",
      "display_name": "Python 3"
    },
    "language_info": {
      "name": "python"
    }
  },
  "cells": [
    {
      "cell_type": "markdown",
      "metadata": {
        "id": "_uCmUyCWsMVH"
      },
      "source": [
        "# Pendahuluan\n",
        "\n",
        "Nurul Jannah (personal.nuruljannah@gmail.com)\n",
        "\n",
        "Berikut Pemodelan untuk Masalah Klasifikasi Akun Bot yang saya susun untuk memenuhi project Data Science UIN Jakarta."
      ]
    },
    {
      "cell_type": "markdown",
      "metadata": {
        "id": "1Mgak7I-tDSG"
      },
      "source": [
        "# Mengakses Data\n",
        "\n",
        "Untuk mengakses dataset dari Google Drive maka pertama-tama kita perlu menghubungkan Google Colaboratory dengan Google Drive."
      ]
    },
    {
      "cell_type": "code",
      "metadata": {
        "colab": {
          "base_uri": "https://localhost:8080/"
        },
        "id": "5gCkC3bwjUZJ",
        "outputId": "17601ef7-4f9e-4bd2-b81c-7fa5941c950b"
      },
      "source": [
        "from google.colab import drive\n",
        "\n",
        "drive.mount('/content/drive')"
      ],
      "execution_count": 1,
      "outputs": [
        {
          "output_type": "stream",
          "name": "stdout",
          "text": [
            "Mounted at /content/drive\n"
          ]
        }
      ]
    },
    {
      "cell_type": "markdown",
      "metadata": {
        "id": "1MxnJSu8tzUO"
      },
      "source": [
        "# Import Modul\n",
        "\n",
        " Pada tahap ini akan di import beberapa modul yang akan digunakan."
      ]
    },
    {
      "cell_type": "code",
      "metadata": {
        "id": "Tc-HdzO7jfDV",
        "colab": {
          "base_uri": "https://localhost:8080/"
        },
        "outputId": "3e1c66ef-9346-4767-c214-e64ce4576273"
      },
      "source": [
        "from sklearn.ensemble import RandomForestClassifier\n",
        "from sklearn.model_selection import train_test_split\n",
        "\n",
        "import os\n",
        "import warnings\n",
        "import pandas as pd\n",
        "import numpy as np\n",
        "import seaborn as sns\n",
        "import matplotlib.pyplot as plt\n",
        "\n",
        "warnings.filterwarnings(\"ignore\")\n",
        "%matplotlib inline"
      ],
      "execution_count": 2,
      "outputs": [
        {
          "output_type": "stream",
          "name": "stderr",
          "text": [
            "/usr/local/lib/python3.7/dist-packages/sklearn/externals/six.py:31: FutureWarning: The module is deprecated in version 0.21 and will be removed in version 0.23 since we've dropped support for Python 2.7. Please rely on the official version of six (https://pypi.org/project/six/).\n",
            "  \"(https://pypi.org/project/six/).\", FutureWarning)\n",
            "/usr/local/lib/python3.7/dist-packages/sklearn/utils/deprecation.py:144: FutureWarning: The sklearn.neighbors.base module is  deprecated in version 0.22 and will be removed in version 0.24. The corresponding classes / functions should instead be imported from sklearn.neighbors. Anything that cannot be imported from sklearn.neighbors is now part of the private API.\n",
            "  warnings.warn(message, FutureWarning)\n"
          ]
        }
      ]
    },
    {
      "cell_type": "markdown",
      "metadata": {
        "id": "h3G72kuNt-rm"
      },
      "source": [
        "# Load Dataset\n",
        "\n",
        "Dataset yang terdapat di google drive selanjutnya di load ke dalam bentuk dataframe agar lebih mudah di proses. Adapun dataset yang digunakan adalah kumpulan informasi terkait suatu akun dikategorikan sebagai akun bot atau bukan. Dataset terdiri dari 2000 akun yang telah diberi label 1 dan 0. Dimana 1 berarti akun merupakan bot dan 0 berarti akun bukan bot. Tujuan pemodelan ini adalah agar mesin dapat membedakan antara akun bot dan bukan akun bot."
      ]
    },
    {
      "cell_type": "code",
      "metadata": {
        "id": "dOvLFYMOkOV7",
        "colab": {
          "base_uri": "https://localhost:8080/"
        },
        "outputId": "db957ab3-96b2-443b-bdb6-b58b01e08cf7"
      },
      "source": [
        "file = os.getcwd()\n",
        "\n",
        "train_data = pd.read_csv(file + '/drive/My Drive/Salinan Bot Twitter.csv')\n",
        "print(\"Load dataset...\")"
      ],
      "execution_count": 3,
      "outputs": [
        {
          "output_type": "stream",
          "name": "stdout",
          "text": [
            "Load dataset...\n"
          ]
        }
      ]
    },
    {
      "cell_type": "markdown",
      "metadata": {
        "id": "B_l9gnUcvpT1"
      },
      "source": [
        "Akan dilihat ukuran serta lima dataset teratas."
      ]
    },
    {
      "cell_type": "code",
      "metadata": {
        "colab": {
          "base_uri": "https://localhost:8080/",
          "height": 326
        },
        "id": "QbcM7oGil8oM",
        "outputId": "16caea7a-ccc8-4602-948b-3c0a066c539d"
      },
      "source": [
        "print('train_data', train_data.shape)\n",
        "train_data.head()"
      ],
      "execution_count": 4,
      "outputs": [
        {
          "output_type": "stream",
          "name": "stdout",
          "text": [
            "train_data (2000, 22)\n"
          ]
        },
        {
          "output_type": "execute_result",
          "data": {
            "text/html": [
              "<div>\n",
              "<style scoped>\n",
              "    .dataframe tbody tr th:only-of-type {\n",
              "        vertical-align: middle;\n",
              "    }\n",
              "\n",
              "    .dataframe tbody tr th {\n",
              "        vertical-align: top;\n",
              "    }\n",
              "\n",
              "    .dataframe thead th {\n",
              "        text-align: right;\n",
              "    }\n",
              "</style>\n",
              "<table border=\"1\" class=\"dataframe\">\n",
              "  <thead>\n",
              "    <tr style=\"text-align: right;\">\n",
              "      <th></th>\n",
              "      <th>ID</th>\n",
              "      <th>Screen name</th>\n",
              "      <th>Foto Profil</th>\n",
              "      <th>Following</th>\n",
              "      <th>Following kurang 30</th>\n",
              "      <th>Followers</th>\n",
              "      <th>Followers lebih 1000</th>\n",
              "      <th>Tweet</th>\n",
              "      <th>Tweet kurang 50</th>\n",
              "      <th>Lokasi</th>\n",
              "      <th>URL</th>\n",
              "      <th>Deskripsi</th>\n",
              "      <th>Follower Ratio 2:1</th>\n",
              "      <th>Follower Ratio 50:1</th>\n",
              "      <th>Follower Ratio 100:1</th>\n",
              "      <th>Pola Aktivitas Akun</th>\n",
              "      <th>Usia Akun (bulan)</th>\n",
              "      <th>Usia Akun kurang sama dengan 12</th>\n",
              "      <th>Rataan Tweet per Minggu</th>\n",
              "      <th>Retweet Ratio %</th>\n",
              "      <th>Retweet Ratio lebih sama dengan 60</th>\n",
              "      <th>Kategori</th>\n",
              "    </tr>\n",
              "  </thead>\n",
              "  <tbody>\n",
              "    <tr>\n",
              "      <th>0</th>\n",
              "      <td>1,32E+22</td>\n",
              "      <td>1</td>\n",
              "      <td>0</td>\n",
              "      <td>53</td>\n",
              "      <td>0</td>\n",
              "      <td>25</td>\n",
              "      <td>0</td>\n",
              "      <td>3</td>\n",
              "      <td>1</td>\n",
              "      <td>1</td>\n",
              "      <td>0</td>\n",
              "      <td>0</td>\n",
              "      <td>1</td>\n",
              "      <td>0</td>\n",
              "      <td>0</td>\n",
              "      <td>1</td>\n",
              "      <td>0</td>\n",
              "      <td>1</td>\n",
              "      <td>0.29</td>\n",
              "      <td>33</td>\n",
              "      <td>0</td>\n",
              "      <td>1</td>\n",
              "    </tr>\n",
              "    <tr>\n",
              "      <th>1</th>\n",
              "      <td>1,32E+23</td>\n",
              "      <td>1</td>\n",
              "      <td>0</td>\n",
              "      <td>218</td>\n",
              "      <td>0</td>\n",
              "      <td>52</td>\n",
              "      <td>0</td>\n",
              "      <td>3</td>\n",
              "      <td>1</td>\n",
              "      <td>1</td>\n",
              "      <td>0</td>\n",
              "      <td>0</td>\n",
              "      <td>0</td>\n",
              "      <td>0</td>\n",
              "      <td>0</td>\n",
              "      <td>0</td>\n",
              "      <td>0</td>\n",
              "      <td>1</td>\n",
              "      <td>0.25</td>\n",
              "      <td>0</td>\n",
              "      <td>0</td>\n",
              "      <td>0</td>\n",
              "    </tr>\n",
              "    <tr>\n",
              "      <th>2</th>\n",
              "      <td>1,33E+23</td>\n",
              "      <td>1</td>\n",
              "      <td>0</td>\n",
              "      <td>530</td>\n",
              "      <td>0</td>\n",
              "      <td>123</td>\n",
              "      <td>0</td>\n",
              "      <td>5</td>\n",
              "      <td>1</td>\n",
              "      <td>1</td>\n",
              "      <td>0</td>\n",
              "      <td>0</td>\n",
              "      <td>0</td>\n",
              "      <td>0</td>\n",
              "      <td>0</td>\n",
              "      <td>0</td>\n",
              "      <td>0</td>\n",
              "      <td>1</td>\n",
              "      <td>0.65</td>\n",
              "      <td>0</td>\n",
              "      <td>0</td>\n",
              "      <td>0</td>\n",
              "    </tr>\n",
              "    <tr>\n",
              "      <th>3</th>\n",
              "      <td>1,33E+23</td>\n",
              "      <td>1</td>\n",
              "      <td>1</td>\n",
              "      <td>237</td>\n",
              "      <td>0</td>\n",
              "      <td>18</td>\n",
              "      <td>0</td>\n",
              "      <td>6</td>\n",
              "      <td>1</td>\n",
              "      <td>1</td>\n",
              "      <td>0</td>\n",
              "      <td>0</td>\n",
              "      <td>0</td>\n",
              "      <td>0</td>\n",
              "      <td>0</td>\n",
              "      <td>1</td>\n",
              "      <td>0</td>\n",
              "      <td>1</td>\n",
              "      <td>0.77</td>\n",
              "      <td>0</td>\n",
              "      <td>1</td>\n",
              "      <td>1</td>\n",
              "    </tr>\n",
              "    <tr>\n",
              "      <th>4</th>\n",
              "      <td>1,35E+23</td>\n",
              "      <td>1</td>\n",
              "      <td>0</td>\n",
              "      <td>94</td>\n",
              "      <td>0</td>\n",
              "      <td>31</td>\n",
              "      <td>0</td>\n",
              "      <td>14</td>\n",
              "      <td>1</td>\n",
              "      <td>1</td>\n",
              "      <td>0</td>\n",
              "      <td>1</td>\n",
              "      <td>0</td>\n",
              "      <td>0</td>\n",
              "      <td>0</td>\n",
              "      <td>1</td>\n",
              "      <td>0</td>\n",
              "      <td>1</td>\n",
              "      <td>3700.00</td>\n",
              "      <td>86</td>\n",
              "      <td>1</td>\n",
              "      <td>1</td>\n",
              "    </tr>\n",
              "  </tbody>\n",
              "</table>\n",
              "</div>"
            ],
            "text/plain": [
              "         ID  Screen name  ...  Retweet Ratio lebih sama dengan 60  Kategori\n",
              "0  1,32E+22            1  ...                                   0         1\n",
              "1  1,32E+23            1  ...                                   0         0\n",
              "2  1,33E+23            1  ...                                   0         0\n",
              "3  1,33E+23            1  ...                                   1         1\n",
              "4  1,35E+23            1  ...                                   1         1\n",
              "\n",
              "[5 rows x 22 columns]"
            ]
          },
          "metadata": {},
          "execution_count": 4
        }
      ]
    },
    {
      "cell_type": "markdown",
      "metadata": {
        "id": "NqsfWBpBv_L3"
      },
      "source": [
        "Dari hasil code di atas terlihat bahwa dataset terdiri dari 2000 baris dan 22 kolom. Adapun rincian atau deskripsi dari setiap kolom dapat dilihat pada link berikut: [Deskripsi Bot Twitter].(https://docs.google.com/document/d/1pXzjj19xL3KDEgk_eIDBTwupjOgmeilE/edit?usp=sharing&ouid=105168169430422773514&rtpof=true&sd=true)"
      ]
    },
    {
      "cell_type": "markdown",
      "metadata": {
        "id": "9UKMDa7Xw2vk"
      },
      "source": [
        "# Cek *Missing Value* dan Tipe Data\n",
        "\n",
        "Pada tahap ini akan diperiksa apakah terdapat *missing value* pada dataset."
      ]
    },
    {
      "cell_type": "code",
      "metadata": {
        "colab": {
          "base_uri": "https://localhost:8080/"
        },
        "id": "BLtgn7ZmmSn4",
        "outputId": "08d5720b-ff20-42ab-bbc1-b295f16a97fd"
      },
      "source": [
        "train_data.info()"
      ],
      "execution_count": 5,
      "outputs": [
        {
          "output_type": "stream",
          "name": "stdout",
          "text": [
            "<class 'pandas.core.frame.DataFrame'>\n",
            "RangeIndex: 2000 entries, 0 to 1999\n",
            "Data columns (total 22 columns):\n",
            " #   Column                              Non-Null Count  Dtype  \n",
            "---  ------                              --------------  -----  \n",
            " 0   ID                                  2000 non-null   object \n",
            " 1   Screen name                         2000 non-null   int64  \n",
            " 2   Foto Profil                         2000 non-null   int64  \n",
            " 3   Following                           2000 non-null   int64  \n",
            " 4   Following kurang 30                 2000 non-null   int64  \n",
            " 5   Followers                           2000 non-null   int64  \n",
            " 6   Followers lebih 1000                2000 non-null   int64  \n",
            " 7   Tweet                               2000 non-null   int64  \n",
            " 8   Tweet kurang 50                     2000 non-null   int64  \n",
            " 9   Lokasi                              2000 non-null   int64  \n",
            " 10  URL                                 2000 non-null   int64  \n",
            " 11  Deskripsi                           2000 non-null   int64  \n",
            " 12  Follower Ratio 2:1                  2000 non-null   int64  \n",
            " 13  Follower Ratio 50:1                 2000 non-null   int64  \n",
            " 14  Follower Ratio 100:1                2000 non-null   int64  \n",
            " 15  Pola Aktivitas Akun                 2000 non-null   int64  \n",
            " 16  Usia Akun (bulan)                   2000 non-null   int64  \n",
            " 17  Usia Akun kurang sama dengan 12     2000 non-null   int64  \n",
            " 18  Rataan Tweet per Minggu             2000 non-null   float64\n",
            " 19  Retweet Ratio %                     2000 non-null   int64  \n",
            " 20  Retweet Ratio lebih sama dengan 60  2000 non-null   int64  \n",
            " 21  Kategori                            2000 non-null   int64  \n",
            "dtypes: float64(1), int64(20), object(1)\n",
            "memory usage: 343.9+ KB\n"
          ]
        }
      ]
    },
    {
      "cell_type": "markdown",
      "metadata": {
        "id": "akScQeAPxKxv"
      },
      "source": [
        "Dari hasil diatas terlihat bahwa tidak ada missing value di semua kolom. Selanjutnya kolom yang dianggap tidak penting dan/atau tidak diperlukan dalam pemodelan ini akan dihilangkan. Dalam kasus ini kolom ID akan dihilangkan karena tidak diperlukan."
      ]
    },
    {
      "cell_type": "code",
      "metadata": {
        "id": "kysfHj6Uo17l"
      },
      "source": [
        "# menghilangkan kolom yang tidak diperlukan\n",
        "\n",
        "train_data.drop('ID', axis=1, inplace=True)"
      ],
      "execution_count": 6,
      "outputs": []
    },
    {
      "cell_type": "markdown",
      "metadata": {
        "id": "BIuPBB9KxtTS"
      },
      "source": [
        "Selanjutnya akan dipisahkan atribut dan label/kategori untuk pelatihan model."
      ]
    },
    {
      "cell_type": "code",
      "metadata": {
        "id": "HG7L7qU6GAc3"
      },
      "source": [
        "# memisahkan atribut dan label\n",
        "\n",
        "x = train_data[['Screen name', 'Foto Profil', 'Following', 'Following kurang 30', 'Followers', 'Followers lebih 1000', 'Tweet', 'Tweet kurang 50', 'Lokasi', 'URL', 'Deskripsi', 'Follower Ratio 2:1', 'Follower Ratio 50:1', 'Follower Ratio 100:1', 'Pola Aktivitas Akun', 'Usia Akun (bulan)', 'Usia Akun kurang sama dengan 12', 'Rataan Tweet per Minggu', 'Retweet Ratio %', 'Retweet Ratio lebih sama dengan 60']]\n",
        "y = train_data['Kategori']"
      ],
      "execution_count": 7,
      "outputs": []
    },
    {
      "cell_type": "markdown",
      "metadata": {
        "id": "METyEqC0yAD8"
      },
      "source": [
        "# Split Dataset\n",
        "\n",
        "Dataset dibagi menjadi data training dan data testing dengan rasio 80% untuk data training dan 20% untuk data testing."
      ]
    },
    {
      "cell_type": "code",
      "metadata": {
        "colab": {
          "base_uri": "https://localhost:8080/",
          "height": 282
        },
        "id": "brUafcm_ou_U",
        "outputId": "0a940b9b-2dcc-48ec-d28b-740fa6814ca5"
      },
      "source": [
        "x_train, x_test, y_train, y_test = train_test_split(x, y, test_size=0.2, random_state=27)\n",
        "\n",
        "sns.barplot(x=['x train', 'x test', 'y train', 'y test'], y=[len(x_train), len(x_test), len(y_train), len(y_test)])\n",
        "x_train.shape, x_test.shape, y_train.shape, y_test.shape"
      ],
      "execution_count": 8,
      "outputs": [
        {
          "output_type": "execute_result",
          "data": {
            "text/plain": [
              "((1600, 20), (400, 20), (1600,), (400,))"
            ]
          },
          "metadata": {},
          "execution_count": 8
        },
        {
          "output_type": "display_data",
          "data": {
            "image/png": "[encoded data removed]",
            "text/plain": [
              "<Figure size 432x288 with 1 Axes>"
            ]
          },
          "metadata": {
            "needs_background": "light"
          }
        }
      ]
    },
    {
      "cell_type": "markdown",
      "metadata": {
        "id": "ZE-dTuY_zEMo"
      },
      "source": [
        "# Model Random Forest\n",
        "\n",
        "Kemudian akan dibuat model Random Forest yang selanjutnya akan dilatih dengan menggunakan fungsi fit()."
      ]
    },
    {
      "cell_type": "code",
      "metadata": {
        "colab": {
          "base_uri": "https://localhost:8080/"
        },
        "id": "KIVY2pPJHeUx",
        "outputId": "85bbd258-e0f1-4c14-df9f-a9b8625705de"
      },
      "source": [
        "rf_model = RandomForestClassifier()\n",
        "\n",
        "rf_model.fit(x_train,y_train)"
      ],
      "execution_count": 9,
      "outputs": [
        {
          "output_type": "execute_result",
          "data": {
            "text/plain": [
              "RandomForestClassifier(bootstrap=True, ccp_alpha=0.0, class_weight=None,\n",
              "                       criterion='gini', max_depth=None, max_features='auto',\n",
              "                       max_leaf_nodes=None, max_samples=None,\n",
              "                       min_impurity_decrease=0.0, min_impurity_split=None,\n",
              "                       min_samples_leaf=1, min_samples_split=2,\n",
              "                       min_weight_fraction_leaf=0.0, n_estimators=100,\n",
              "                       n_jobs=None, oob_score=False, random_state=None,\n",
              "                       verbose=0, warm_start=False)"
            ]
          },
          "metadata": {},
          "execution_count": 9
        }
      ]
    },
    {
      "cell_type": "markdown",
      "metadata": {
        "id": "9f2bxPpCzdJb"
      },
      "source": [
        "Terlihat dibawah ini model Random Forest berhasil memprediksi akun bot atau bukan akun bot dengan akurasi sebesar ~90%."
      ]
    },
    {
      "cell_type": "code",
      "metadata": {
        "colab": {
          "base_uri": "https://localhost:8080/"
        },
        "id": "ex8Vj4IBNXiO",
        "outputId": "63592ffa-0f68-4483-8a54-3ef9e8f3acf7"
      },
      "source": [
        "prediksi = rf_model.predict(x_test)\n",
        "print(accuracy_score(y_test, prediksi))"
      ],
      "execution_count": 12,
      "outputs": [
        {
          "output_type": "stream",
          "name": "stdout",
          "text": [
            "0.9\n"
          ]
        }
      ]
    },
    {
      "cell_type": "markdown",
      "metadata": {
        "id": "1nyp83YozwkF"
      },
      "source": [
        "Dibawah ini model akan dicoba untuk memprediksi sebuah akun dengan memasukkan nilai atribut yang sesuai dengan format secara berurutan.\n",
        "Adapun rincian atribut akun tersebut sebagai berikut:\n",
        "1. Screen name : 0,\n",
        "2. Foto profil : 0,\n",
        "3. Following   : 151,\n",
        "4. Following kurang dari 30 \t: 0,\n",
        "5. Followers : 44,\n",
        "6. Followers lebih dari 1000 : 0,\n",
        "7. Tweet : 2312,\n",
        "8. Tweet kurang dari 50\t: 0,\n",
        "9. Lokasi : 0,\n",
        "10. URL : 0,\n",
        "11. Deskripsi : 0,\n",
        "12. Follower ratio 2:1 : 0,\n",
        "13. Follower ratio 50:1\t: 0,\n",
        "14. Follower ratio 100:1 : 0,\n",
        "15. Pola aktivitas akun\t: 0,\n",
        "16. Usia akun\t: 38,\n",
        "17. Usia akun kurang sama dengan 12 : 0,\n",
        "18. Rataan tweet perminggu : 0,\n",
        "19. Retweet ratio lebih dari sama dengan 60 : 0."
      ]
    },
    {
      "cell_type": "code",
      "metadata": {
        "colab": {
          "base_uri": "https://localhost:8080/"
        },
        "id": "pdeeDGoiMBYA",
        "outputId": "7fa43c44-5b6d-4f0b-e760-fab75487d8be"
      },
      "source": [
        "rf_model.predict([[0, 0, 151, 0, 44, 0, 2312, 0, 0, 0, 0, 0, 0, 0, 0, 38, 0, 0, 0, 0]])"
      ],
      "execution_count": 11,
      "outputs": [
        {
          "output_type": "execute_result",
          "data": {
            "text/plain": [
              "array([0])"
            ]
          },
          "metadata": {},
          "execution_count": 11
        }
      ]
    },
    {
      "cell_type": "markdown",
      "metadata": {
        "id": "8OsCkT7M17Sf"
      },
      "source": [
        "# Model Decision Tree\n",
        "\n",
        "Akan dicoba juga pemodelan menggunakan Decision Tree."
      ]
    },
    {
      "cell_type": "code",
      "metadata": {
        "colab": {
          "base_uri": "https://localhost:8080/"
        },
        "id": "zJD3TnhWIDs1",
        "outputId": "651cff4f-0912-487c-9fb8-3c90aff78aa1"
      },
      "source": [
        "from sklearn.tree import DecisionTreeClassifier\n",
        "\n",
        "tree_model = DecisionTreeClassifier()\n",
        "\n",
        "tree_model.fit(x_train,y_train)"
      ],
      "execution_count": 14,
      "outputs": [
        {
          "output_type": "execute_result",
          "data": {
            "text/plain": [
              "DecisionTreeClassifier(ccp_alpha=0.0, class_weight=None, criterion='gini',\n",
              "                       max_depth=None, max_features=None, max_leaf_nodes=None,\n",
              "                       min_impurity_decrease=0.0, min_impurity_split=None,\n",
              "                       min_samples_leaf=1, min_samples_split=2,\n",
              "                       min_weight_fraction_leaf=0.0, presort='deprecated',\n",
              "                       random_state=None, splitter='best')"
            ]
          },
          "metadata": {},
          "execution_count": 14
        }
      ]
    },
    {
      "cell_type": "code",
      "metadata": {
        "colab": {
          "base_uri": "https://localhost:8080/"
        },
        "id": "oJkfHOg0KcxH",
        "outputId": "6f72c857-31b6-490a-aee2-67d936efb25a"
      },
      "source": [
        "tree_model.predict([[0, 0, 151, 0, 44, 0, 2312, 0, 0, 0, 0, 0, 0, 0, 0, 38, 0, 0, 0, 0]])"
      ],
      "execution_count": 15,
      "outputs": [
        {
          "output_type": "execute_result",
          "data": {
            "text/plain": [
              "array([0])"
            ]
          },
          "metadata": {},
          "execution_count": 15
        }
      ]
    },
    {
      "cell_type": "markdown",
      "metadata": {
        "id": "68tMn5b72S_H"
      },
      "source": [
        "Terlihat dibawah ini model Decision Tree berhasil memprediksi akun bot atau bukan akun bot dengan akurasi sebesar ~83.25%."
      ]
    },
    {
      "cell_type": "code",
      "metadata": {
        "colab": {
          "base_uri": "https://localhost:8080/"
        },
        "id": "toOpRV7hroKe",
        "outputId": "20cb7915-137f-4427-84d1-ef87ef2f2a4a"
      },
      "source": [
        "prediksi_tree = tree_model.predict(x_test)\n",
        "print(accuracy_score(y_test, prediksi_tree))"
      ],
      "execution_count": 16,
      "outputs": [
        {
          "output_type": "stream",
          "name": "stdout",
          "text": [
            "0.8325\n"
          ]
        }
      ]
    },
    {
      "cell_type": "markdown",
      "metadata": {
        "id": "a6Xi_Oke2hZ6"
      },
      "source": [
        "# Visualisasi Decision Tree"
      ]
    },
    {
      "cell_type": "code",
      "metadata": {
        "id": "S8djAe6Ky6L2"
      },
      "source": [
        "from sklearn.tree import export_graphviz\n",
        "\n",
        "export_graphviz(\n",
        "    tree_model,\n",
        "    out_file = 'bot_tree.dot',\n",
        "    feature_names = ['Screen name', 'Foto Profil', 'Following', 'Following kurang 30', 'Followers', 'Followers lebih 1000', 'Tweet', 'Tweet kurang 50', 'Lokasi', 'URL', 'Deskripsi', 'Follower Ratio 2:1', 'Follower Ratio 50:1', 'Follower Ratio 100:1', 'Pola Aktivitas Akun', 'Usia Akun (bulan)', 'Usia Akun kurang sama dengan 12', 'Rataan Tweet per Minggu', 'Retweet Ratio %', 'Retweet Ratio lebih sama dengan 60'],\n",
        "    class_names = ['Akun-bot', 'Bukan Akun-bot'],\n",
        "    rounded = True,\n",
        "    filled = True\n",
        ")"
      ],
      "execution_count": 18,
      "outputs": []
    },
    {
      "cell_type": "markdown",
      "metadata": {
        "id": "U4Og8Bv630Ht"
      },
      "source": [
        "Output yang dihasilkan berupa berkas bot_tree.dot. Untuk melihat visualisasi decision tree, dot file akan dikonversi ke dalam file png dengan menggunakan situs konversi berkas berikut: [convert dot file](https://onlineconvertfree.com/complete/dot-png/). Sehingga diperoleh gambar sebagai berikut."
      ]
    },
    {
      "cell_type": "code",
      "metadata": {
        "colab": {
          "base_uri": "https://localhost:8080/",
          "height": 119
        },
        "id": "GTo8VdvL63cD",
        "outputId": "c7704c60-9471-497f-d48e-1a960a4acc7f"
      },
      "source": [
        "from keras.preprocessing import image\n",
        "import matplotlib.image as mpimg\n",
        "%matplotlib inline\n",
        "\n",
        "fn = 'bot_tree.png'\n",
        "\n",
        "path = fn\n",
        "img = image.load_img(path, target_size=(1000,5000))\n",
        "imgplot = plt.imshow(img)\n",
        "x = image.img_to_array(img)\n",
        "x = np.expand_dims(x, axis=0)"
      ],
      "execution_count": 35,
      "outputs": [
        {
          "output_type": "display_data",
          "data": {
            "image/png": "[encoded data removed]",
            "text/plain": [
              "<Figure size 432x288 with 1 Axes>"
            ]
          },
          "metadata": {
            "needs_background": "light"
          }
        }
      ]
    },
    {
      "cell_type": "code",
      "metadata": {
        "id": "MXilxGey7Ube"
      },
      "source": [
        ""
      ],
      "execution_count": null,
      "outputs": []
    }
  ]
}